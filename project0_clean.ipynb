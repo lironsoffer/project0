{
  "nbformat": 4,
  "nbformat_minor": 0,
  "metadata": {
    "colab": {
      "name": "project0-clean.ipynb",
      "version": "0.3.2",
      "provenance": [],
      "collapsed_sections": [
        "D4IqVVE_Y15x",
        "TDrXVffWQfys",
        "BNXyo7SlRczc",
        "MmbWxMHfL4hJ",
        "vt83k8TR0g2k",
        "E5L9qIJ2PjfN",
        "nK7MpI05ROho",
        "PA_C2xJBaJP-",
        "b0RXcptxapeI",
        "r01GCTQGYUIA",
        "FB0Ce4eHPpjW",
        "KJWUTCYxYNJa",
        "mLsesnRCRg-z",
        "oL8TrSnsTEzq",
        "3is-_xyup84c"
      ]
    },
    "kernelspec": {
      "name": "python3",
      "display_name": "Python 3"
    },
    "accelerator": "GPU"
  },
  "cells": [
    {
      "metadata": {
        "id": "D4IqVVE_Y15x",
        "colab_type": "text"
      },
      "cell_type": "markdown",
      "source": [
        "#### Installations"
      ]
    },
    {
      "metadata": {
        "id": "DAefZXfxgtX9",
        "colab_type": "code",
        "colab": {}
      },
      "cell_type": "code",
      "source": [
        "# !pip install torch"
      ],
      "execution_count": 0,
      "outputs": []
    },
    {
      "metadata": {
        "id": "G_KxNiYxQhga",
        "colab_type": "code",
        "colab": {}
      },
      "cell_type": "code",
      "source": [
        "# !pip install -U textblob\n",
        "# !python -m textblob.download_corpora"
      ],
      "execution_count": 0,
      "outputs": []
    },
    {
      "metadata": {
        "id": "UzXh0Uj0bnbA",
        "colab_type": "code",
        "colab": {}
      },
      "cell_type": "code",
      "source": [
        "# ! wget -nH -r -np -P data/tmp http://files.fast.ai/models/wt103/\n",
        "# !python -m spacy download en"
      ],
      "execution_count": 0,
      "outputs": []
    },
    {
      "metadata": {
        "id": "hq529Dcf07pa",
        "colab_type": "code",
        "colab": {}
      },
      "cell_type": "code",
      "source": [
        "# !pip install yellowbrick\n",
        "# !pip install textacy\n",
        "# !pip install cld2-cffi"
      ],
      "execution_count": 0,
      "outputs": []
    },
    {
      "metadata": {
        "id": "TDrXVffWQfys",
        "colab_type": "text"
      },
      "cell_type": "markdown",
      "source": [
        "### Setup"
      ]
    },
    {
      "metadata": {
        "id": "BNXyo7SlRczc",
        "colab_type": "text"
      },
      "cell_type": "markdown",
      "source": [
        "#### Imports"
      ]
    },
    {
      "metadata": {
        "id": "f1sX1I67EALV",
        "colab_type": "code",
        "colab": {}
      },
      "cell_type": "code",
      "source": [
        "# On sucess - you get no output\n",
        "import os\n",
        "from google.colab import drive\n",
        "import pandas as pd\n",
        "import numpy as np\n",
        "from collections import defaultdict\n",
        "# from sklearn.metrics import mean_squared_error\n",
        "from sklearn.model_selection import train_test_split\n",
        "from sklearn.model_selection import ShuffleSplit\n",
        "from sklearn.linear_model import LogisticRegression\n",
        "from sklearn.svm import SVC \n",
        "from sklearn.neighbors import RadiusNeighborsClassifier\n",
        "# from sklearn.tree import DecisionTreeRegressor\n",
        "# from sklearn.model_selection import GridSearchCV\n",
        "from sklearn.model_selection import cross_val_score\n",
        "from sklearn import metrics\n",
        "from sklearn.linear_model import LinearRegression\n",
        "from sklearn.ensemble import RandomForestClassifier\n",
        "from sklearn.svm import LinearSVC\n",
        "import pickle\n",
        "# import torch\n",
        "from sklearn.naive_bayes import GaussianNB\n",
        "from yellowbrick.classifier import ClassificationReport\n",
        "from yellowbrick.target import ClassBalance\n",
        "from yellowbrick.classifier import ClassPredictionError\n",
        "\n",
        "from spacy import displacy\n",
        "import en_core_web_sm\n",
        "nlp = en_core_web_sm.load()\n",
        "\n",
        "\n",
        "seed = 666"
      ],
      "execution_count": 0,
      "outputs": []
    },
    {
      "metadata": {
        "id": "MmbWxMHfL4hJ",
        "colab_type": "text"
      },
      "cell_type": "markdown",
      "source": [
        "#### Mount drive and set path"
      ]
    },
    {
      "metadata": {
        "id": "Vh_RuIzqLogD",
        "colab_type": "code",
        "outputId": "3f389a99-b4d1-431c-f02c-5b41425e82fc",
        "colab": {
          "base_uri": "https://localhost:8080/",
          "height": 159
        }
      },
      "cell_type": "code",
      "source": [
        "drive.mount('/content/gdrive')\n",
        "print(os.chdir('gdrive/My Drive/Colab Notebooks/project0'))\n",
        "print(os.listdir())\n",
        "\n",
        "# !mkdir -p 'gdrive/My Drive/Colab Notebooks/Cifar10/project0'\n",
        "# print(os.listdir('gdrive/My Drive/Colab Notebooks'))\n",
        "# print(os.listdir('data/FEIII 2018 Training Data v1/TRDF data'))\n",
        "\n"
      ],
      "execution_count": 0,
      "outputs": [
        {
          "output_type": "stream",
          "text": [
            "Go to this URL in a browser: https://accounts.google.com/o/oauth2/auth?client_id=947318989803-6bn6qk8qdgf4n4g3pfee6491hc0brc4i.apps.googleusercontent.com&redirect_uri=urn%3Aietf%3Awg%3Aoauth%3A2.0%3Aoob&scope=email%20https%3A%2F%2Fwww.googleapis.com%2Fauth%2Fdocs.test%20https%3A%2F%2Fwww.googleapis.com%2Fauth%2Fdrive%20https%3A%2F%2Fwww.googleapis.com%2Fauth%2Fdrive.photos.readonly%20https%3A%2F%2Fwww.googleapis.com%2Fauth%2Fpeopleapi.readonly&response_type=code\n",
            "\n",
            "Enter your authorization code:\n",
            "··········\n",
            "Mounted at /content/gdrive\n",
            "None\n",
            "['data', 'images', 'project0.ipynb']\n"
          ],
          "name": "stdout"
        }
      ]
    },
    {
      "metadata": {
        "id": "vt83k8TR0g2k",
        "colab_type": "text"
      },
      "cell_type": "markdown",
      "source": [
        "#### Paths, loads and saves"
      ]
    },
    {
      "metadata": {
        "id": "o6KYRfYgPdzb",
        "colab_type": "code",
        "colab": {}
      },
      "cell_type": "code",
      "source": [
        "from pathlib import Path\n",
        "PATH = Path('data')\n",
        "training_prediction_edges_path = Path('data/FEIII 2018 Training Data v1/TRDF data/TRDF_edges_training_CIK-to-CIK.csv')\n",
        "original_10_sec_path = Path('data/FEIII 2018 Training Data v1/SEC 10-K Relationships/Role_FE_Reference_modified.csv')\n",
        "seed_10_sec_path = Path('data/FEIII 2018 Training Data v1/SEC 10-K Relationships/Seed_Role_FE_Reference_modified.csv')\n",
        "unlabeled_10_sec_path = Path('data/FEIII 2018 Training Data v1/SEC 10-K Relationships/Unlabeled_Role_FE_Reference_modified.csv')\n",
        "seed_test_10_sec_path = Path('data/FEIII 2018 Training Data v1/SEC 10-K Relationships/Seed_test_Role_FE_Reference_modified.csv')\n",
        "# wikitext103_path = PATH/'tmp'/'models'/'wt103'\n",
        "# PRE_LM_PATH = wikitext103_path/'fwd_wt103.h5'\n",
        "models_path = PATH/'tmp'/'my_models'\n",
        "unlabeled_df_final_all_path = Path('data/FEIII 2018 Training Data v1/SEC 10-K Relationships/Unlabeled_Role_FE_Reference_modified_final_prediction_qith_info.csv')\n",
        "unlabeled_df_final_path = Path('data/FEIII 2018 Training Data v1/SEC 10-K Relationships/Unlabeled_Role_FE_Reference_modified_final_prediction_formated.csv')\n"
      ],
      "execution_count": 0,
      "outputs": []
    },
    {
      "metadata": {
        "id": "gJSXrK4dB7eV",
        "colab_type": "code",
        "colab": {}
      },
      "cell_type": "code",
      "source": [
        "def save_df(df,path):\n",
        "  df.to_csv(path, sep=',', encoding=\"utf-8-sig\", index=False)\n",
        "\n",
        "def load_df(path=seed_10_sec_path):\n",
        "  return pd.read_csv(path, sep=',', encoding=\"utf-8-sig\")\n",
        "\n",
        "save_seed = save_seed_features_data = lambda: seed_data.to_csv(seed_10_sec_path, sep=',', encoding=\"utf-8-sig\", index=False)\n",
        "get_seed_data = lambda: pd.read_csv(seed_10_sec_path, sep=',', encoding=\"utf-8-sig\")"
      ],
      "execution_count": 0,
      "outputs": []
    },
    {
      "metadata": {
        "id": "N60ZE7iM-Gkv",
        "colab_type": "code",
        "colab": {}
      },
      "cell_type": "code",
      "source": [
        "def save_model(name):\n",
        "  filename = models_path/'{}_model.sav'.format(name)\n",
        "  pickle.dump(visualizer[name], open(filename, 'wb'))"
      ],
      "execution_count": 0,
      "outputs": []
    },
    {
      "metadata": {
        "id": "E5L9qIJ2PjfN",
        "colab_type": "text"
      },
      "cell_type": "markdown",
      "source": [
        "## Pre-proccessing"
      ]
    },
    {
      "metadata": {
        "id": "nK7MpI05ROho",
        "colab_type": "text"
      },
      "cell_type": "markdown",
      "source": [
        "### Arrange data"
      ]
    },
    {
      "metadata": {
        "id": "PA_C2xJBaJP-",
        "colab_type": "text"
      },
      "cell_type": "markdown",
      "source": [
        "#### Helper functions"
      ]
    },
    {
      "metadata": {
        "id": "tJCa6--2xmOh",
        "colab_type": "text"
      },
      "cell_type": "markdown",
      "source": [
        "TODO: check if gets more than 1 prediction per i,k (using only first row now with values[0])"
      ]
    },
    {
      "metadata": {
        "id": "2fAxtNAKoJbd",
        "colab_type": "code",
        "colab": {}
      },
      "cell_type": "code",
      "source": [
        "# def get_y(i,k):\n",
        "#   df = training_y_edges.set_index(['SOURCE', 'DESTINATION'])\n",
        "#   if (i,k) in list(df.index.values):\n",
        "#     return df.loc[(i,k)]['y'].values[0]\n",
        "#   if (k,i) in list(df.index.values):\n",
        "# #     print(df.loc[(k,i)]['y'])\n",
        "#     return df.loc[(k,i)]['y'].values[0]\n",
        "#   return 3\n",
        "\n",
        "# training_y_edges = pd.DataFrame(pd.read_csv(training_prediction_edges_path, delimiter=',', encoding=\"utf-8-sig\"), columns=['SOURCE', 'DESTINATION','PREDICATE'])\n",
        "# training_y_edges['y'] = training_y_edges['PREDICATE']== 'isCompetitorOf'\n",
        "# print(training_y_edges[:10])\n",
        "# print(get_y(791206,713676))\n",
        "# print(get_y(8565,92230))"
      ],
      "execution_count": 0,
      "outputs": []
    },
    {
      "metadata": {
        "id": "nGnJPQIvRudY",
        "colab_type": "code",
        "colab": {}
      },
      "cell_type": "code",
      "source": [
        "# CIK1 = 'FILER_CIK'\n",
        "# CIK2 = 'MENTIONED_FINANCIAL_ENTITY_CIK'\n",
        "\n",
        "# def find_prediction(x):\n",
        "#   if (CIK1 not in x.index): print(\"KeyError CIK1\") \n",
        "#   if (CIK2 not in x.index): print(\"KeyError CIK2\")\n",
        "#   i,k = x[[CIK1,CIK2]].values\n",
        "#   if pd.isnull(i) or pd.isnull(k): return 4\n",
        "# #   print(int(i),int(k))\n",
        "#   y = get_y(int(i),int(k))\n",
        "#   return y"
      ],
      "execution_count": 0,
      "outputs": []
    },
    {
      "metadata": {
        "id": "H5gxZy_ITKlM",
        "colab_type": "text"
      },
      "cell_type": "markdown",
      "source": [
        "I used 4 categories for the prediction - 0 for non competitors, 1 for competitors, 3 for unknown prediction and 4 for missing cik's\n",
        "\n",
        "we have:\n",
        "\n",
        "3-Unknown relationship       13810\n",
        "\n",
        "4-Missing at least one of the cik's        13551\n",
        "\n",
        "True       941\n",
        "\n",
        "False      192"
      ]
    },
    {
      "metadata": {
        "id": "D40Ah0tSuFtR",
        "colab_type": "text"
      },
      "cell_type": "markdown",
      "source": [
        "Step 1: add 'PREDICATE' column to feature data "
      ]
    },
    {
      "metadata": {
        "id": "oUJ6VWCaLUPI",
        "colab_type": "code",
        "outputId": "ca6d4607-cc82-4a8f-d005-20d19ef21be1",
        "colab": {
          "base_uri": "https://localhost:8080/",
          "height": 104
        }
      },
      "cell_type": "code",
      "source": [
        "# feature_data = pd.read_csv(original_10_sec_path, delimiter=',', encoding=\"utf-8-sig\")\n",
        "\n",
        "# feature_data['PREDICATE'] = feature_data.apply(find_prediction,axis=1)\n",
        "# print(feature_data['PREDICATE'].value_counts())\n",
        "print(feature_data.columns)"
      ],
      "execution_count": 0,
      "outputs": [
        {
          "output_type": "stream",
          "text": [
            "Index(['Unnamed: 0', 'DOCUMENT_TYPE', 'FILENAME', 'FILER_NAME', 'FILER_CIK',\n",
            "       'FILING_INTERVAL', 'FILING_DATE', 'MENTIONED_FINANCIAL_ENTITY\\tROLE',\n",
            "       'FIVE_SENTENCES', 'MENTIONED_FINANCIAL_ENTITY_CIK',\n",
            "       'MENTIONED_FINANCIAL_ENTITY_GROUP_IDENTIFIER', 'PREDICATE'],\n",
            "      dtype='object')\n"
          ],
          "name": "stdout"
        }
      ]
    },
    {
      "metadata": {
        "id": "W9sSznRwuU3Q",
        "colab_type": "text"
      },
      "cell_type": "markdown",
      "source": [
        "Step 2: devide feature_data to seed and unlabeled"
      ]
    },
    {
      "metadata": {
        "id": "xUHhPqWDLU1o",
        "colab_type": "code",
        "outputId": "3e7880f9-b80f-4b99-c120-9d32e059ae11",
        "colab": {
          "base_uri": "https://localhost:8080/",
          "height": 69
        }
      },
      "cell_type": "code",
      "source": [
        "# is_unknown_prediction = feature_data['PREDICATE']=='3'\n",
        "# features_data_unlabeled = feature_data.loc[is_unknown_prediction]\n",
        "# features_data_unlabeled.to_csv(unlabeled_10_sec_path, sep=',', encoding=\"utf-8-sig\")"
      ],
      "execution_count": 0,
      "outputs": [
        {
          "output_type": "stream",
          "text": [
            "True     941\n",
            "False    192\n",
            "Name: PREDICATE, dtype: int64\n"
          ],
          "name": "stdout"
        }
      ]
    },
    {
      "metadata": {
        "id": "b0RXcptxapeI",
        "colab_type": "text"
      },
      "cell_type": "markdown",
      "source": [
        "#### Step 2.5"
      ]
    },
    {
      "metadata": {
        "id": "LBrjy9-xbBdy",
        "colab_type": "code",
        "colab": {}
      },
      "cell_type": "code",
      "source": [
        "# is_known = feature_data.PREDICATE.isin(['True','False'])\n",
        "# seed_data = feature_data.loc[is_known]\n",
        "# print(seed_data['PREICATE'].value_counts())\n",
        "# seed_data = seed_data[['FILER_CIK','MENTIONED_FINANCIAL_ENTITY_CIK','PREDICATE','FIVE_SENTENCES']]\n",
        "# print(features_data_unlabeled['PREDICATE'].value_counts())\n",
        "# save_seed_features_data()"
      ],
      "execution_count": 0,
      "outputs": []
    },
    {
      "metadata": {
        "id": "Z48Yx6eaE2rY",
        "colab_type": "text"
      },
      "cell_type": "markdown",
      "source": [
        "Step 3: devide seed to training and validation "
      ]
    },
    {
      "metadata": {
        "id": "MvLG31Og4CC4",
        "colab_type": "code",
        "colab": {}
      },
      "cell_type": "code",
      "source": [
        "seed_data = get_seed_data()\n",
        "print(seed_data.head())\n",
        "# train, test = train_test_split(seed_data, test_size=0.15)\n",
        "# save_df(train,seed_10_sec_path)\n",
        "# save_df(test,seed_test_10_sec_path)"
      ],
      "execution_count": 0,
      "outputs": []
    },
    {
      "metadata": {
        "id": "KJWUTCYxYNJa",
        "colab_type": "text"
      },
      "cell_type": "markdown",
      "source": [
        "## SpaCy"
      ]
    },
    {
      "metadata": {
        "id": "5R6qw9RwXZs7",
        "colab_type": "text"
      },
      "cell_type": "markdown",
      "source": [
        "Apply SpaCy's nlp function and save vector to new column"
      ]
    },
    {
      "metadata": {
        "id": "ymoVOEtFE4Mn",
        "colab_type": "code",
        "colab": {}
      },
      "cell_type": "code",
      "source": [
        "LOG_NLP = True\n",
        "def apply_nlp(df):\n",
        "  if 'FIVE_SENTENCES' in df.columns:\n",
        "    df['spaCy'] = df.FIVE_SENTENCES.apply(lambda x:nlp(x))\n",
        "    if LOG_NLP: print(\"spaCy column added\")\n",
        "    df['spaCy_mean_vec'] = df.spaCy.apply(lambda x:x.vector)\n",
        "    if LOG_NLP: print(\"spaCy_mean_vec column added\")\n",
        "  else:\n",
        "    print(\"DataFrame doesn't contain five sentences\")\n",
        "  return df\n",
        "#   save_seed()"
      ],
      "execution_count": 0,
      "outputs": []
    },
    {
      "metadata": {
        "id": "bdw1v5xL-kCV",
        "colab_type": "code",
        "colab": {}
      },
      "cell_type": "code",
      "source": [
        "# seed_data['spaCy'] = seed_data.FIVE_SENTENCES.apply(lambda x:nlp(x))\n",
        "# seed_data['spaCy_mean_vec'] = seed_data.spaCy.apply(lambda x:x.vector)\n",
        "# save_seed()"
      ],
      "execution_count": 0,
      "outputs": []
    },
    {
      "metadata": {
        "id": "2tHWYIMXpH9W",
        "colab_type": "text"
      },
      "cell_type": "markdown",
      "source": [
        "Just some debuging"
      ]
    },
    {
      "metadata": {
        "id": "OdfqU2r0-_GY",
        "colab_type": "code",
        "outputId": "14403e5f-aa00-4f9b-92d1-621573e86d18",
        "colab": {
          "base_uri": "https://localhost:8080/",
          "height": 35
        }
      },
      "cell_type": "code",
      "source": [
        "# tmp['spaCy_mean_vec'] = tmp.spaCy_mean_vec.values.tolist()\n",
        "# print(type(seed_data['spaCy_mean_vec'].values[0]))\n",
        "# print(seed_data.spaCy_mean_vec[:5])\n",
        "print(seed_data.spaCy_mean_vec[4].size)"
      ],
      "execution_count": 0,
      "outputs": [
        {
          "output_type": "stream",
          "text": [
            "384\n"
          ],
          "name": "stdout"
        }
      ]
    },
    {
      "metadata": {
        "id": "xM7ypurmcSbB",
        "colab_type": "text"
      },
      "cell_type": "markdown",
      "source": [
        "## Training"
      ]
    },
    {
      "metadata": {
        "id": "F2JMqgOL84Zr",
        "colab_type": "code",
        "colab": {}
      },
      "cell_type": "code",
      "source": [
        "def create_models():\n",
        "  models = {}\n",
        "  models['svclassifier'] = SVC(kernel='linear') \n",
        "  models['bayes'] = GaussianNB()\n",
        "  models['RadiusNeighborsClassifier'] = RadiusNeighborsClassifier(radius=2.0,outlier_label='unknown')\n",
        "  models['logistic'] = LogisticRegression()\n",
        "  models['linSVC'] = LinearSVC(random_state=0, tol=1e-5)\n",
        "  models['randomForest'] = RandomForestClassifier()\n",
        "  return models"
      ],
      "execution_count": 0,
      "outputs": []
    },
    {
      "metadata": {
        "id": "9_uhb3oh4OKq",
        "colab_type": "code",
        "colab": {}
      },
      "cell_type": "code",
      "source": [
        "# ORIGINAL\n",
        "classsifier = {}\n",
        "def viz_model(name_list, support=True):\n",
        "  # Instantiate the classification model and visualizer\n",
        "  if isinstance(name_list,str): name_list = [name_list]\n",
        "  for name in name_list:\n",
        "    classsifier[name] = ClassificationReport(models[name], support=support)\n",
        "\n",
        "    classsifier[name].fit(X_train, y_train)  # Fit the visualizer and the model\n",
        "    classsifier[name].score(X_val, y_val)  # Evaluate the model on the validation data\n",
        "    g = classsifier[name].poof()             # Draw/show/poof the data"
      ],
      "execution_count": 0,
      "outputs": []
    },
    {
      "metadata": {
        "id": "rNqHKGJ8ye-3",
        "colab_type": "code",
        "outputId": "90450830-af21-4e75-fa2f-1a9c65e4b16d",
        "colab": {
          "base_uri": "https://localhost:8080/",
          "height": 401
        }
      },
      "cell_type": "code",
      "source": [
        "def dummy_true_classifier():\n",
        "    y_true = np.random.choice([0, 1], size=(len(X_val)))\n",
        "    dummy_classsifier = ClassificationReport(models['svclassifier'])\n",
        "    dummy_classsifier.fit(X_train, y_train)\n",
        "    dummy_classsifier.score(X_val, y_true)  # Evaluate the model on the validation data\n",
        "    g = dummy_classsifier.poof()             # Draw/show/poof the data\n",
        "dummy_true_classifier()"
      ],
      "execution_count": 0,
      "outputs": [
        {
          "output_type": "display_data",
          "data": {
            "image/png": "[encoded data removed]",
            "text/plain": [
              "<matplotlib.figure.Figure at 0x7f121182a208>"
            ]
          },
          "metadata": {
            "tags": []
          }
        }
      ]
    },
    {
      "metadata": {
        "id": "BodKutuyQrHJ",
        "colab_type": "text"
      },
      "cell_type": "markdown",
      "source": [
        "## Visualizations"
      ]
    },
    {
      "metadata": {
        "id": "rmjGWmxfRmWH",
        "colab_type": "text"
      },
      "cell_type": "markdown",
      "source": [
        "### KPI's"
      ]
    },
    {
      "metadata": {
        "id": "arYY7pR6-J-0",
        "colab_type": "code",
        "colab": {}
      },
      "cell_type": "code",
      "source": [
        "def show_balance_viz():\n",
        "  visualizer = ClassBalance(labels=['True','False'])\n",
        "  visualizer.fit(y_train,y_val)\n",
        "  g = visualizer.poof()\n",
        "  \n",
        "show_balance_viz()"
      ],
      "execution_count": 0,
      "outputs": []
    },
    {
      "metadata": {
        "id": "Io-71d_RLujS",
        "colab_type": "code",
        "outputId": "60866e68-e082-4b62-d2c9-c0944541c03a",
        "colab": {
          "base_uri": "https://localhost:8080/",
          "height": 401
        }
      },
      "cell_type": "code",
      "source": [
        "predictionErr = {}\n",
        "def viz_model_error(name_list):\n",
        "  # Instantiate the classification model and visualizer\n",
        "  if isinstance(name_list,str): name_list = [name_list]\n",
        "  for name in name_list:\n",
        "    predictionErr[name] = ClassPredictionError(models[name], classes=['True','False'])\n",
        "\n",
        "    predictionErr[name].fit(X_train, y_train)\n",
        "#     y_val = np.random.choice([0, 1], size=(len(X_val)))\n",
        "    predictionErr[name].score(X_val, y_val) \n",
        "    g = predictionErr[name].poof()           \n",
        "viz_model_error(['svclassifier'])"
      ],
      "execution_count": 0,
      "outputs": [
        {
          "output_type": "display_data",
          "data": {
            "image/png": "[encoded data removed]",
            "text/plain": [
              "<matplotlib.figure.Figure at 0x7f121167a898>"
            ]
          },
          "metadata": {
            "tags": []
          }
        }
      ]
    },
    {
      "metadata": {
        "id": "54Z8y9oINGFg",
        "colab_type": "code",
        "colab": {}
      },
      "cell_type": "code",
      "source": [
        "from sklearn.model_selection import StratifiedKFold\n",
        "from yellowbrick.model_selection import LearningCurve\n",
        "\n",
        "learning_curve = {}\n",
        "def viz_learning_curve(name_list):\n",
        "  if isinstance(name_list,str): name_list = [name_list]\n",
        "  for name in name_list:\n",
        "    learning_curve[name] = LearningCurve(models[name], cv=StratifiedKFold(12), train_sizes=np.linspace(0.3, 1.0, 10),scoring='f1_weighted', n_jobs=4)\n",
        "    learning_curve[name].fit(X_train, y_train)\n",
        "    g = learning_curve[name].poof()\n",
        "viz_learning_curve([top,'svclassifier','RadiusNeighborsClassifier','randomForest'])"
      ],
      "execution_count": 0,
      "outputs": []
    },
    {
      "metadata": {
        "id": "oL8TrSnsTEzq",
        "colab_type": "text"
      },
      "cell_type": "markdown",
      "source": [
        "### spacy"
      ]
    },
    {
      "metadata": {
        "id": "2F42veStR6FX",
        "colab_type": "code",
        "outputId": "7f9b36c3-87af-4953-bfbd-add74f9b9dce",
        "colab": {
          "base_uri": "https://localhost:8080/",
          "height": 245
        }
      },
      "cell_type": "code",
      "source": [
        "text = \"\"\"But Google is starting from behind. The company made a late push\n",
        "into hardware, and Apple’s Siri, available on iPhones, and Amazon’s Alexa\n",
        "software, which runs on its Echo and Dot devices, have clear leads in\n",
        "consumer adoption.\"\"\"\n",
        "\n",
        "# doc = nlp(text)\n",
        "# doc = seed_data.spaCy[1]\n",
        "# colors = {'ORG': 'linear-gradient(90deg, #aa9cfc, #fc9ce7)', 'GPE':'linear-gradient(90deg, #ffe9af, #ffdd84)',\n",
        "#           'CARDINAL':'linear-gradient(90deg, #3c5c68, #93d5ed)'}\n",
        "# options = {'ents': ['ORG','CARDINAL','GPE'], 'colors': colors}\n",
        "displacy.render(doc, style='ent', options=options, jupyter=True)"
      ],
      "execution_count": 0,
      "outputs": [
        {
          "output_type": "display_data",
          "data": {
            "text/html": [
              "<div class=\"entities\" style=\"line-height: 2.5\">\n",
              "<mark class=\"entity\" style=\"background: linear-gradient(90deg, #3c5c68, #93d5ed); padding: 0.45em 0.6em; margin: 0 0.25em; line-height: 1; border-radius: 0.35em; box-decoration-break: clone; -webkit-box-decoration-break: clone\">\n",
              "    45\n",
              "    <span style=\"font-size: 0.8em; font-weight: bold; line-height: 1; border-radius: 0.35em; text-transform: uppercase; vertical-align: middle; margin-left: 0.5rem\">CARDINAL</span>\n",
              "</mark>\n",
              " \n",
              "<mark class=\"entity\" style=\"background: linear-gradient(90deg, #aa9cfc, #fc9ce7); padding: 0.45em 0.6em; margin: 0 0.25em; line-height: 1; border-radius: 0.35em; box-decoration-break: clone; -webkit-box-decoration-break: clone\">\n",
              "    RIVERSOURCE LIFE INSURANCE COMPANY NOTES\n",
              "    <span style=\"font-size: 0.8em; font-weight: bold; line-height: 1; border-radius: 0.35em; text-transform: uppercase; vertical-align: middle; margin-left: 0.5rem\">ORG</span>\n",
              "</mark>\n",
              " TO CONSOLIDATED FINANCIAL STATEMENTS \n",
              "<mark class=\"entity\" style=\"background: linear-gradient(90deg, #3c5c68, #93d5ed); padding: 0.45em 0.6em; margin: 0 0.25em; line-height: 1; border-radius: 0.35em; box-decoration-break: clone; -webkit-box-decoration-break: clone\">\n",
              "    1\n",
              "    <span style=\"font-size: 0.8em; font-weight: bold; line-height: 1; border-radius: 0.35em; text-transform: uppercase; vertical-align: middle; margin-left: 0.5rem\">CARDINAL</span>\n",
              "</mark>\n",
              ". Nature of Business and Basis of Presentation RiverSource Life Insurance Company is a stock life insurance company with \n",
              "<mark class=\"entity\" style=\"background: linear-gradient(90deg, #3c5c68, #93d5ed); padding: 0.45em 0.6em; margin: 0 0.25em; line-height: 1; border-radius: 0.35em; box-decoration-break: clone; -webkit-box-decoration-break: clone\">\n",
              "    one\n",
              "    <span style=\"font-size: 0.8em; font-weight: bold; line-height: 1; border-radius: 0.35em; text-transform: uppercase; vertical-align: middle; margin-left: 0.5rem\">CARDINAL</span>\n",
              "</mark>\n",
              " wholly owned stock life insurance company subsidiary, \n",
              "<mark class=\"entity\" style=\"background: linear-gradient(90deg, #aa9cfc, #fc9ce7); padding: 0.45em 0.6em; margin: 0 0.25em; line-height: 1; border-radius: 0.35em; box-decoration-break: clone; -webkit-box-decoration-break: clone\">\n",
              "    RiverSource Life Insurance Co.\n",
              "    <span style=\"font-size: 0.8em; font-weight: bold; line-height: 1; border-radius: 0.35em; text-transform: uppercase; vertical-align: middle; margin-left: 0.5rem\">ORG</span>\n",
              "</mark>\n",
              " of \n",
              "<mark class=\"entity\" style=\"background: linear-gradient(90deg, #ffe9af, #ffdd84); padding: 0.45em 0.6em; margin: 0 0.25em; line-height: 1; border-radius: 0.35em; box-decoration-break: clone; -webkit-box-decoration-break: clone\">\n",
              "    New York\n",
              "    <span style=\"font-size: 0.8em; font-weight: bold; line-height: 1; border-radius: 0.35em; text-transform: uppercase; vertical-align: middle; margin-left: 0.5rem\">GPE</span>\n",
              "</mark>\n",
              " (?\n",
              "<mark class=\"entity\" style=\"background: linear-gradient(90deg, #aa9cfc, #fc9ce7); padding: 0.45em 0.6em; margin: 0 0.25em; line-height: 1; border-radius: 0.35em; box-decoration-break: clone; -webkit-box-decoration-break: clone\">\n",
              "    RiverSource Life of NY\n",
              "    <span style=\"font-size: 0.8em; font-weight: bold; line-height: 1; border-radius: 0.35em; text-transform: uppercase; vertical-align: middle; margin-left: 0.5rem\">ORG</span>\n",
              "</mark>\n",
              "?). \n",
              "<mark class=\"entity\" style=\"background: linear-gradient(90deg, #aa9cfc, #fc9ce7); padding: 0.45em 0.6em; margin: 0 0.25em; line-height: 1; border-radius: 0.35em; box-decoration-break: clone; -webkit-box-decoration-break: clone\">\n",
              "    RiverSource Life Insurance Company\n",
              "    <span style=\"font-size: 0.8em; font-weight: bold; line-height: 1; border-radius: 0.35em; text-transform: uppercase; vertical-align: middle; margin-left: 0.5rem\">ORG</span>\n",
              "</mark>\n",
              " is a wholly owned subsidiary of \n",
              "<mark class=\"entity\" style=\"background: linear-gradient(90deg, #aa9cfc, #fc9ce7); padding: 0.45em 0.6em; margin: 0 0.25em; line-height: 1; border-radius: 0.35em; box-decoration-break: clone; -webkit-box-decoration-break: clone\">\n",
              "    Ameriprise Financial, Inc.\n",
              "    <span style=\"font-size: 0.8em; font-weight: bold; line-height: 1; border-radius: 0.35em; text-transform: uppercase; vertical-align: middle; margin-left: 0.5rem\">ORG</span>\n",
              "</mark>\n",
              " (?Ameriprise Financial?). ? \n",
              "<mark class=\"entity\" style=\"background: linear-gradient(90deg, #aa9cfc, #fc9ce7); padding: 0.45em 0.6em; margin: 0 0.25em; line-height: 1; border-radius: 0.35em; box-decoration-break: clone; -webkit-box-decoration-break: clone\">\n",
              "    RiverSource Life Insurance Company\n",
              "    <span style=\"font-size: 0.8em; font-weight: bold; line-height: 1; border-radius: 0.35em; text-transform: uppercase; vertical-align: middle; margin-left: 0.5rem\">ORG</span>\n",
              "</mark>\n",
              " is domiciled in \n",
              "<mark class=\"entity\" style=\"background: linear-gradient(90deg, #ffe9af, #ffdd84); padding: 0.45em 0.6em; margin: 0 0.25em; line-height: 1; border-radius: 0.35em; box-decoration-break: clone; -webkit-box-decoration-break: clone\">\n",
              "    Minnesota\n",
              "    <span style=\"font-size: 0.8em; font-weight: bold; line-height: 1; border-radius: 0.35em; text-transform: uppercase; vertical-align: middle; margin-left: 0.5rem\">GPE</span>\n",
              "</mark>\n",
              " and holds \n",
              "<mark class=\"entity\" style=\"background: linear-gradient(90deg, #aa9cfc, #fc9ce7); padding: 0.45em 0.6em; margin: 0 0.25em; line-height: 1; border-radius: 0.35em; box-decoration-break: clone; -webkit-box-decoration-break: clone\">\n",
              "    Certificates of Authority\n",
              "    <span style=\"font-size: 0.8em; font-weight: bold; line-height: 1; border-radius: 0.35em; text-transform: uppercase; vertical-align: middle; margin-left: 0.5rem\">ORG</span>\n",
              "</mark>\n",
              " in \n",
              "<mark class=\"entity\" style=\"background: linear-gradient(90deg, #aa9cfc, #fc9ce7); padding: 0.45em 0.6em; margin: 0 0.25em; line-height: 1; border-radius: 0.35em; box-decoration-break: clone; -webkit-box-decoration-break: clone\">\n",
              "    American Samoa\n",
              "    <span style=\"font-size: 0.8em; font-weight: bold; line-height: 1; border-radius: 0.35em; text-transform: uppercase; vertical-align: middle; margin-left: 0.5rem\">ORG</span>\n",
              "</mark>\n",
              ", \n",
              "<mark class=\"entity\" style=\"background: linear-gradient(90deg, #ffe9af, #ffdd84); padding: 0.45em 0.6em; margin: 0 0.25em; line-height: 1; border-radius: 0.35em; box-decoration-break: clone; -webkit-box-decoration-break: clone\">\n",
              "    the District of Columbia\n",
              "    <span style=\"font-size: 0.8em; font-weight: bold; line-height: 1; border-radius: 0.35em; text-transform: uppercase; vertical-align: middle; margin-left: 0.5rem\">GPE</span>\n",
              "</mark>\n",
              " and all states except \n",
              "<mark class=\"entity\" style=\"background: linear-gradient(90deg, #ffe9af, #ffdd84); padding: 0.45em 0.6em; margin: 0 0.25em; line-height: 1; border-radius: 0.35em; box-decoration-break: clone; -webkit-box-decoration-break: clone\">\n",
              "    New York\n",
              "    <span style=\"font-size: 0.8em; font-weight: bold; line-height: 1; border-radius: 0.35em; text-transform: uppercase; vertical-align: middle; margin-left: 0.5rem\">GPE</span>\n",
              "</mark>\n",
              ". \n",
              "<mark class=\"entity\" style=\"background: linear-gradient(90deg, #aa9cfc, #fc9ce7); padding: 0.45em 0.6em; margin: 0 0.25em; line-height: 1; border-radius: 0.35em; box-decoration-break: clone; -webkit-box-decoration-break: clone\">\n",
              "    RiverSource Life Insurance Company\n",
              "    <span style=\"font-size: 0.8em; font-weight: bold; line-height: 1; border-radius: 0.35em; text-transform: uppercase; vertical-align: middle; margin-left: 0.5rem\">ORG</span>\n",
              "</mark>\n",
              " issues insurance and annuity products.</div>"
            ],
            "text/plain": [
              "<IPython.core.display.HTML object>"
            ]
          },
          "metadata": {
            "tags": []
          }
        }
      ]
    },
    {
      "metadata": {
        "id": "3is-_xyup84c",
        "colab_type": "text"
      },
      "cell_type": "markdown",
      "source": [
        "## Unsupervised Prediction for Unlabeled"
      ]
    },
    {
      "metadata": {
        "id": "pvHW_n6Rp-gZ",
        "colab_type": "code",
        "colab": {}
      },
      "cell_type": "code",
      "source": [
        "# unlabeled_df = load_df(unlabeled_10_sec_path)"
      ],
      "execution_count": 0,
      "outputs": []
    },
    {
      "metadata": {
        "id": "wqX-GhP6qNtL",
        "colab_type": "code",
        "colab": {}
      },
      "cell_type": "code",
      "source": [
        "def predict(unlabeled_df):\n",
        "  unlabeled_df['predicted_label'] = 0\n",
        "  unlabeled_df = unlabeled_df[['FILER_CIK','MENTIONED_FINANCIAL_ENTITY_CIK','predicted_label','FIVE_SENTENCES']]\n",
        "  unlabeled_df = apply_nlp(unlabeled_df)\n",
        "  \n",
        "  X_unlabeled_ = unlabeled_df['spaCy_mean_vec']\n",
        "  unlabeled_df['predicted_label'] = classifier['svclassifier'].predict(X_unlabeled.values.tolist())\n",
        "  unlabeled_df_final = unlabeled_df[['FILER_CIK','MENTIONED_FINANCIAL_ENTITY_CIK','predicted_label']]\n",
        "  return unlabeled_df, unlabeled_df_final"
      ],
      "execution_count": 0,
      "outputs": []
    },
    {
      "metadata": {
        "id": "PWvBjpIGLpN7",
        "colab_type": "code",
        "colab": {}
      },
      "cell_type": "code",
      "source": [
        "unlabeled_df, unlabeled_df_final = predict(unlabeled_df)"
      ],
      "execution_count": 0,
      "outputs": []
    },
    {
      "metadata": {
        "id": "-5aBRDCH4PX2",
        "colab_type": "code",
        "colab": {}
      },
      "cell_type": "code",
      "source": [
        "save_df(unlabeled_df,unlabeled_df_final_all_path)\n",
        "save_df(unlabeled_df_final,unlabeled_df_final_path)\n"
      ],
      "execution_count": 0,
      "outputs": []
    },
    {
      "metadata": {
        "id": "bdZFj9oAwD8L",
        "colab_type": "code",
        "colab": {}
      },
      "cell_type": "code",
      "source": [
        "# TODO: calc predictions\n",
        "# TODO: figure how to save the model\n",
        "# TODO: make a pipeline for production"
      ],
      "execution_count": 0,
      "outputs": []
    },
    {
      "metadata": {
        "id": "Gx1IyW5K4pwQ",
        "colab_type": "code",
        "colab": {}
      },
      "cell_type": "code",
      "source": [
        ""
      ],
      "execution_count": 0,
      "outputs": []
    },
    {
      "metadata": {
        "id": "KLtWpVgBBzTM",
        "colab_type": "text"
      },
      "cell_type": "markdown",
      "source": [
        "## Auomate"
      ]
    },
    {
      "metadata": {
        "id": "XOtTd41dB0PV",
        "colab_type": "code",
        "outputId": "19d06995-a992-46ab-dcc5-89ef019d5c24",
        "colab": {
          "base_uri": "https://localhost:8080/",
          "height": 456
        }
      },
      "cell_type": "code",
      "source": [
        "# seed_data = get_seed_data()\n",
        "# seed_data = apply_nlp(seed_data)\n",
        "X_train, X_val, y_train, y_val = train_test_split(seed_data.spaCy_mean_vec.values.tolist(), seed_data.PREDICATE.values, test_size = 0.40)\n",
        "# models = create_models()\n",
        "top = 'linSVC'\n",
        "X = seed_data.spaCy_mean_vec.values.tolist()\n",
        "y = seed_data.PREDICATE.values\n",
        "viz_model([top],False)"
      ],
      "execution_count": 0,
      "outputs": [
        {
          "output_type": "stream",
          "text": [
            "/usr/local/lib/python3.6/dist-packages/sklearn/svm/base.py:931: ConvergenceWarning: Liblinear failed to converge, increase the number of iterations.\n",
            "  \"the number of iterations.\", ConvergenceWarning)\n"
          ],
          "name": "stderr"
        },
        {
          "output_type": "display_data",
          "data": {
            "image/png": "[encoded data removed]",
            "text/plain": [
              "<matplotlib.figure.Figure at 0x7f1211587da0>"
            ]
          },
          "metadata": {
            "tags": []
          }
        }
      ]
    },
    {
      "metadata": {
        "id": "2Sr30W9gCQsR",
        "colab_type": "code",
        "outputId": "4f4cab98-9f46-44e0-970b-5d57cef3295b",
        "colab": {
          "base_uri": "https://localhost:8080/",
          "height": 456
        }
      },
      "cell_type": "code",
      "source": [
        "X_train, X_val, y_train, y_val = train_test_split(seed_data.spaCy_mean_vec.values.tolist(), seed_data.PREDICATE.values, test_size = 0.45)\n",
        "X = seed_data.spaCy_mean_vec.values.tolist()\n",
        "y = seed_data.PREDICATE.values\n",
        "viz_model([top],False)"
      ],
      "execution_count": 0,
      "outputs": [
        {
          "output_type": "stream",
          "text": [
            "/usr/local/lib/python3.6/dist-packages/sklearn/svm/base.py:931: ConvergenceWarning: Liblinear failed to converge, increase the number of iterations.\n",
            "  \"the number of iterations.\", ConvergenceWarning)\n"
          ],
          "name": "stderr"
        },
        {
          "output_type": "display_data",
          "data": {
            "image/png": "[encoded data removed]",
            "text/plain": [
              "<matplotlib.figure.Figure at 0x7f12117f6da0>"
            ]
          },
          "metadata": {
            "tags": []
          }
        }
      ]
    },
    {
      "metadata": {
        "id": "SXil44-U4IFc",
        "colab_type": "code",
        "colab": {}
      },
      "cell_type": "code",
      "source": [
        ""
      ],
      "execution_count": 0,
      "outputs": []
    },
    {
      "metadata": {
        "id": "yDq3zpjceLtC",
        "colab_type": "code",
        "colab": {}
      },
      "cell_type": "code",
      "source": [
        ""
      ],
      "execution_count": 0,
      "outputs": []
    }
  ]
}